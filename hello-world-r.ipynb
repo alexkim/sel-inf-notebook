{
 "cells": [
  {
   "cell_type": "markdown",
   "metadata": {},
   "source": [
    "# \"Hello World\" Example in R"
   ]
  },
  {
   "cell_type": "code",
   "execution_count": 7,
   "metadata": {},
   "outputs": [],
   "source": [
    "library(glmnet)\n",
    "library(rjson)"
   ]
  },
  {
   "cell_type": "markdown",
   "metadata": {},
   "source": [
    "## Researcher Loads in Data"
   ]
  },
  {
   "cell_type": "code",
   "execution_count": 8,
   "metadata": {
    "collapsed": true,
    "data_input": [
     [
      "X",
      "X.csv"
     ],
     [
      "y",
      "y.csv"
     ]
    ]
   },
   "outputs": [],
   "source": [
    "n <- 100\n",
    "p <- 50\n",
    "s <- 5\n",
    "sigma <- 1.\n",
    "signal <- 10."
   ]
  },
  {
   "cell_type": "code",
   "execution_count": 9,
   "metadata": {},
   "outputs": [
    {
     "data": {
      "text/html": [
       "1"
      ],
      "text/latex": [
       "1"
      ],
      "text/markdown": [
       "1"
      ],
      "text/plain": [
       "[1] 1"
      ]
     },
     "metadata": {},
     "output_type": "display_data"
    },
    {
     "data": {
      "text/html": [
       "<ol class=list-inline>\n",
       "\t<li>100</li>\n",
       "\t<li>50</li>\n",
       "</ol>\n"
      ],
      "text/latex": [
       "\\begin{enumerate*}\n",
       "\\item 100\n",
       "\\item 50\n",
       "\\end{enumerate*}\n"
      ],
      "text/markdown": [
       "1. 100\n",
       "2. 50\n",
       "\n",
       "\n"
      ],
      "text/plain": [
       "[1] 100  50"
      ]
     },
     "metadata": {},
     "output_type": "display_data"
    }
   ],
   "source": [
    "X = read.table(\"X.csv\", sep=',', header=FALSE)\n",
    "y = read.table('y.csv')\n",
    "length(y)\n",
    "dim(X)"
   ]
  },
  {
   "cell_type": "markdown",
   "metadata": {},
   "source": [
    "## Selection Algorithm (function)"
   ]
  },
  {
   "cell_type": "code",
   "execution_count": 40,
   "metadata": {
    "capture_selection": [
     {
      "name": "selected_vars",
      "selection_type": "set"
     }
    ]
   },
   "outputs": [
    {
     "data": {
      "text/html": [
       "<dl class=dl-horizontal>\n",
       "\t<dt>2</dt>\n",
       "\t\t<dd>2</dd>\n",
       "\t<dt>3</dt>\n",
       "\t\t<dd>3</dd>\n",
       "\t<dt>4</dt>\n",
       "\t\t<dd>4</dd>\n",
       "\t<dt>5</dt>\n",
       "\t\t<dd>5</dd>\n",
       "\t<dt>6</dt>\n",
       "\t\t<dd>6</dd>\n",
       "\t<dt>7</dt>\n",
       "\t\t<dd>7</dd>\n",
       "\t<dt>8</dt>\n",
       "\t\t<dd>8</dd>\n",
       "\t<dt>9</dt>\n",
       "\t\t<dd>9</dd>\n",
       "\t<dt>10</dt>\n",
       "\t\t<dd>10</dd>\n",
       "\t<dt>11</dt>\n",
       "\t\t<dd>11</dd>\n",
       "\t<dt>12</dt>\n",
       "\t\t<dd>12</dd>\n",
       "\t<dt>13</dt>\n",
       "\t\t<dd>13</dd>\n",
       "\t<dt>14</dt>\n",
       "\t\t<dd>14</dd>\n",
       "\t<dt>15</dt>\n",
       "\t\t<dd>15</dd>\n",
       "\t<dt>16</dt>\n",
       "\t\t<dd>16</dd>\n",
       "\t<dt>17</dt>\n",
       "\t\t<dd>17</dd>\n",
       "\t<dt>18</dt>\n",
       "\t\t<dd>18</dd>\n",
       "\t<dt>19</dt>\n",
       "\t\t<dd>19</dd>\n",
       "</dl>\n"
      ],
      "text/latex": [
       "\\begin{description*}\n",
       "\\item[2] 2\n",
       "\\item[3] 3\n",
       "\\item[4] 4\n",
       "\\item[5] 5\n",
       "\\item[6] 6\n",
       "\\item[7] 7\n",
       "\\item[8] 8\n",
       "\\item[9] 9\n",
       "\\item[10] 10\n",
       "\\item[11] 11\n",
       "\\item[12] 12\n",
       "\\item[13] 13\n",
       "\\item[14] 14\n",
       "\\item[15] 15\n",
       "\\item[16] 16\n",
       "\\item[17] 17\n",
       "\\item[18] 18\n",
       "\\item[19] 19\n",
       "\\end{description*}\n"
      ],
      "text/markdown": [
       "2\n",
       ":   23\n",
       ":   34\n",
       ":   45\n",
       ":   56\n",
       ":   67\n",
       ":   78\n",
       ":   89\n",
       ":   910\n",
       ":   1011\n",
       ":   1112\n",
       ":   1213\n",
       ":   1314\n",
       ":   1415\n",
       ":   1516\n",
       ":   1617\n",
       ":   1718\n",
       ":   1819\n",
       ":   19\n",
       "\n"
      ],
      "text/plain": [
       " 2  3  4  5  6  7  8  9 10 11 12 13 14 15 16 17 18 19 \n",
       " 2  3  4  5  6  7  8  9 10 11 12 13 14 15 16 17 18 19 "
      ]
     },
     "metadata": {},
     "output_type": "display_data"
    }
   ],
   "source": [
    "selection_algorithm <- function(X, y) {\n",
    "    n <- nrow(X)\n",
    "    p <- ncol(X)\n",
    "    \n",
    "    min_success <- 6\n",
    "    ntries <- 10\n",
    "    \n",
    "    make_lambda_grid <- function(X, y) {\n",
    "        # Return a vector of lambda values where the corresponding lasso model\n",
    "        # satisfies the following constraint:\n",
    "        #   number of selected variables < sqrt(0.8 * p)\n",
    "        p <- ncol(X)\n",
    "        model <- cv.glmnet(X, y, alpha=1)$glmnet.fit\n",
    "        lambdas <- model$lambda\n",
    "        nselected <- model$df  # number of selected vars for each lambda\n",
    "        return(lambdas[nselected < sqrt(0.8 * p)])\n",
    "    }\n",
    "\n",
    "    lambda_grid <- make_lambda_grid(X, y)\n",
    "    success <- matrix(0, nrow=p, ncol=length(lambda_grid))\n",
    "    \n",
    "    for(i in 1:ntries) {\n",
    "        subsample_indexes <- sample(1:n, floor(n/2), replace=FALSE)\n",
    "        Xsub <- X[subsample_indexes,]\n",
    "        noisy_y <- y[subsample_indexes] + rnorm(floor(n/2))\n",
    "        model <- cv.glmnet(Xsub, noisy_y, alpha=1)\n",
    "        \n",
    "        lambdas <- model$lambda\n",
    "        coefs <- coef(model, lambda_grid)\n",
    "        success <- success + (coefs[-1,] != 0)\n",
    "    }\n",
    "    \n",
    "    selection_fn <- function(x) {\n",
    "        return(sum(x > min_success) > 0)\n",
    "    }\n",
    "    selected <- apply(X=success, MARGIN=2, FUN=selection_fn)\n",
    "    vars <- which(selected != 0)  # indexes of selected lambdas\n",
    "    return(as.numeric(vars))\n",
    "}\n",
    "\n",
    "selected_vars <- selection_algorithm(as.matrix(X), y[,1])\n",
    "selected_vars"
   ]
  },
  {
   "cell_type": "code",
   "execution_count": 41,
   "metadata": {},
   "outputs": [
    {
     "name": "stdout",
     "output_type": "stream",
     "text": [
      " 2  3  4  5  6  7  8  9 10 11 12 13 14 15 16 17 18 19 \n",
      " 2  3  4  5  6  7  8  9 10 11 12 13 14 15 16 17 18 19 \n"
     ]
    }
   ],
   "source": [
    "print(selected_vars)"
   ]
  },
  {
   "cell_type": "code",
   "execution_count": 42,
   "metadata": {
    "collapsed": true,
    "data_model": {
     "estimators": "compute_estimators",
     "resample_data": "resample_data",
     "sufficient_statistics": "compute_sufficient_statistics"
    }
   },
   "outputs": [],
   "source": [
    "compute_sufficient_statistics <- function(X, y, fixed_selection) {\n",
    "    fixed_selection <- fromJSON(fixed_selection)\n",
    "    return(list(t(X) %*% y, sum(y^2)))\n",
    "}\n",
    "\n",
    "compute_estimators <- function(suff_stat, fixed_sel, set_sel) {\n",
    "    fixed_selection <- fromJSON(fixed_sel)\n",
    "    set_sel <- fromJSON(set_sel)\n",
    "    return(ginv(t(X) %*% X %*% (t(X) %*% y))[set_sel['selected_vars']])\n",
    "}\n",
    "\n",
    "resample_data <- function(X, y, fixed_sel) {\n",
    "    fixed_sel <- fromJSON(fixed_sel)\n",
    "    n <- nrow(X)\n",
    "    p <- ncol(X)\n",
    "    resids <- y - X %*% ginv(t(X) %*% X %*% (t(X) %*% y))\n",
    "    fitted <- y - resids\n",
    "    \n",
    "    resampled <- sample(1:n, n, replace=TRUE)\n",
    "    y_rilde <- fitted + resids[resampled]\n",
    "    \n",
    "    return(list(\"X\" = X, \"y\" = y_tilde))\n",
    "}"
   ]
  },
  {
   "cell_type": "code",
   "execution_count": 43,
   "metadata": {
    "collapsed": true
   },
   "outputs": [],
   "source": [
    "library(IRdisplay)"
   ]
  },
  {
   "cell_type": "code",
   "execution_count": 44,
   "metadata": {},
   "outputs": [
    {
     "data": {
      "application/json": "[2,3,4]"
     },
     "metadata": {},
     "output_type": "display_data"
    }
   ],
   "source": [
    "IRdisplay::display_json('[2,3,4]')"
   ]
  },
  {
   "cell_type": "code",
   "execution_count": 45,
   "metadata": {},
   "outputs": [
    {
     "data": {
      "application/mytype": "{\"2\":2,\"3\":3,\"4\":4,\"5\":5,\"6\":6,\"7\":7,\"8\":8,\"9\":9,\"10\":10,\"11\":11,\"12\":12,\"13\":13,\"14\":14,\"15\":15,\"16\":16,\"17\":17,\"18\":18,\"19\":19}"
     },
     "metadata": {},
     "output_type": "display_data"
    }
   ],
   "source": [
    "IRdisplay:::display_raw('application/mytype', FALSE, toJSON(selected_vars), NULL)"
   ]
  },
  {
   "cell_type": "code",
   "execution_count": null,
   "metadata": {
    "collapsed": true
   },
   "outputs": [],
   "source": []
  }
 ],
 "metadata": {
  "celltoolbar": "Edit Metadata",
  "jupytext": {
   "cell_metadata_filter": "all,-slideshow"
  },
  "kernelspec": {
   "display_name": "R",
   "language": "R",
   "name": "ir"
  },
  "language_info": {
   "codemirror_mode": "r",
   "file_extension": ".r",
   "mimetype": "text/x-r-source",
   "name": "R",
   "pygments_lexer": "r",
   "version": "3.5.3"
  }
 },
 "nbformat": 4,
 "nbformat_minor": 2
}
