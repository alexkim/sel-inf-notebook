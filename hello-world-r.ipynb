{
 "cells": [
  {
   "cell_type": "markdown",
   "metadata": {},
   "source": [
    "# \"Hello World\" Example in R"
   ]
  },
  {
   "cell_type": "code",
   "execution_count": 1,
   "metadata": {},
   "outputs": [
    {
     "name": "stderr",
     "output_type": "stream",
     "text": [
      "Loading required package: Matrix\n",
      "Loading required package: foreach\n",
      "Loaded glmnet 2.0-16\n",
      "\n"
     ]
    }
   ],
   "source": [
    "library(glmnet)\n",
    "library(rjson)"
   ]
  },
  {
   "cell_type": "markdown",
   "metadata": {},
   "source": [
    "## Researcher Loads in Data"
   ]
  },
  {
   "cell_type": "code",
   "execution_count": 2,
   "metadata": {
    "data_input": [
     [
      "X",
      "X.csv"
     ],
     [
      "y",
      "y.csv"
     ]
    ]
   },
   "outputs": [],
   "source": [
    "n <- 100\n",
    "p <- 50\n",
    "s <- 5\n",
    "sigma <- 1.\n",
    "signal <- 10."
   ]
  },
  {
   "cell_type": "markdown",
   "metadata": {},
   "source": [
    "## Selection Algorithm (function)"
   ]
  },
  {
   "cell_type": "code",
   "execution_count": 3,
   "metadata": {},
   "outputs": [
    {
     "ename": "ERROR",
     "evalue": "Error in nrow(X): object 'X' not found\n",
     "output_type": "error",
     "traceback": [
      "Error in nrow(X): object 'X' not found\nTraceback:\n",
      "1. selection_algorithm(X, y)",
      "2. nrow(X)   # at line 2 of file <text>"
     ]
    }
   ],
   "source": [
    "selection_algorithm <- function(X, y) {\n",
    "    n <- nrow(X)\n",
    "    p <- ncol(X)\n",
    "    \n",
    "    min_success <- 6\n",
    "    ntries <- 10\n",
    "    \n",
    "    make_lambda_grid <- function(X, y) {\n",
    "        # Return a vector of lambda values where the corresponding lasso model\n",
    "        # satisfies the following constraint:\n",
    "        #   number of selected variables < sqrt(0.8 * p)\n",
    "        p <- ncol(X)\n",
    "        model <- cv.glmnet(X, y, alpha=1)$glmnet.fit\n",
    "        lambdas <- model$lambda\n",
    "        nselected <- model$df  # number of selected vars for each lambda\n",
    "        return(lambdas[nselected < sqrt(0.8 * p)])\n",
    "    }\n",
    "    \n",
    "    lambda_grid <- make_lambda_grid(X, y)\n",
    "    success <- matrix(0, nrow=p, ncol=length(lambda_grid))\n",
    "    \n",
    "    for(i in 1:ntries) {\n",
    "        subsample_indexes <- sample(1:n, floor(n/2), replace=FALSE)\n",
    "        Xsub <- X[subsample_indexes,]\n",
    "        noisy_y <- y[subsample_indexes] + rnorm(n = n)\n",
    "        model <- cv.glmnet(Xsub, noisy_y, alpha=1)\n",
    "        \n",
    "        lambdas <- model$lambda\n",
    "        coefs <- coef(model, lambdas)\n",
    "        \n",
    "        success <- success + (coefs != 0)\n",
    "    }\n",
    "    \n",
    "    selection_fn <- function(x) {\n",
    "        return(sum(x > min_success) > 0)\n",
    "    }\n",
    "    selected <- apply(X=success, MARGIN=2, FUN=selection_fn)\n",
    "    vars <- which(selected != 0)  # indexes of selected lambdas\n",
    "    return(vars)\n",
    "}\n",
    "\n",
    "selected_vars <- selection_algorithm(X, y)"
   ]
  },
  {
   "cell_type": "code",
   "execution_count": 4,
   "metadata": {},
   "outputs": [],
   "source": [
    "compute_sufficient_statistics <- function(X, y, fixed_selection) {\n",
    "    fixed_selection <- fromJSON(fixed_selection)\n",
    "    return(list(t(X) %*% y, sum(y^2)))\n",
    "}\n",
    "\n",
    "compute_estimators <- function(suff_stat, fixed_sel, set_sel) {\n",
    "    fixed_selection <- fromJSON(fixed_sel)\n",
    "    set_sel <- fromJSON(set_sel)\n",
    "    return(ginv(t(X) %*% X %*% (t(X) %*% y))[set_sel['selected_vars']])\n",
    "}\n",
    "\n",
    "resample_data <- function(X, y, fixed_sel) {\n",
    "    fixed_sel <- fromJSON(fixed_sel)\n",
    "    n <- nrow(X)\n",
    "    p <- ncol(X)\n",
    "    resids <- y - X %*% ginv(t(X) %*% X %*% (t(X) %*% y))\n",
    "    fitted <- y - resids\n",
    "    \n",
    "    resampled <- sample(1:n, n, replace=TRUE)\n",
    "    y_rilde <- fitted + resids[resampled]\n",
    "    \n",
    "    return(list(\"X\" = X, \"y\" = y_tilde))\n",
    "}"
   ]
  },
  {
   "cell_type": "code",
   "execution_count": 5,
   "metadata": {},
   "outputs": [
    {
     "name": "stderr",
     "output_type": "stream",
     "text": [
      "Warning message:\n",
      "“Option grouped=FALSE enforced in cv.glmnet, since < 3 observations per fold”"
     ]
    },
    {
     "ename": "ERROR",
     "evalue": "Error in rep(1, N): invalid 'times' argument\n",
     "output_type": "error",
     "traceback": [
      "Error in rep(1, N): invalid 'times' argument\nTraceback:\n",
      "1. selection_algorithm(X, y)",
      "2. cv.glmnet(Xsub, noisy_y, alpha = 1)   # at line 26 of file <text>"
     ]
    }
   ],
   "source": [
    "# toy data (might be too small for CV to work)\n",
    "X <- matrix(c(c(1,2,3), c(7,7,7)), nrow=3)\n",
    "y <- c(5,2,7)\n",
    "\n",
    "selection_algorithm(X, y)"
   ]
  }
 ],
 "metadata": {
  "celltoolbar": "Edit Metadata",
  "kernelspec": {
   "display_name": "R",
   "language": "R",
   "name": "ir"
  },
  "language_info": {
   "codemirror_mode": "r",
   "file_extension": ".r",
   "mimetype": "text/x-r-source",
   "name": "R",
   "pygments_lexer": "r",
   "version": "3.3.3"
  }
 },
 "nbformat": 4,
 "nbformat_minor": 2
}
