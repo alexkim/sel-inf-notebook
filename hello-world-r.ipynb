{
 "cells": [
  {
   "cell_type": "markdown",
   "metadata": {},
   "source": [
    "# \"Hello World\" Example in R"
   ]
  },
  {
   "cell_type": "code",
   "execution_count": 7,
   "metadata": {},
   "outputs": [],
   "source": [
    "library(glmnet)\n",
    "library(rjson)"
   ]
  },
  {
   "cell_type": "markdown",
   "metadata": {},
   "source": [
    "## Researcher Loads in Data"
   ]
  },
  {
   "cell_type": "code",
   "execution_count": 8,
   "metadata": {
    "collapsed": true,
    "data_input": [
     [
      "X",
      "X.csv"
     ],
     [
      "y",
      "y.csv"
     ]
    ]
   },
   "outputs": [],
   "source": [
    "n <- 100\n",
    "p <- 50\n",
    "s <- 5\n",
    "sigma <- 1.\n",
    "signal <- 10."
   ]
  },
  {
   "cell_type": "code",
   "execution_count": 9,
   "metadata": {},
   "outputs": [
    {
     "data": {
      "text/html": [
       "1"
      ],
      "text/latex": [
       "1"
      ],
      "text/markdown": [
       "1"
      ],
      "text/plain": [
       "[1] 1"
      ]
     },
     "metadata": {},
     "output_type": "display_data"
    },
    {
     "data": {
      "text/html": [
       "<ol class=list-inline>\n",
       "\t<li>100</li>\n",
       "\t<li>50</li>\n",
       "</ol>\n"
      ],
      "text/latex": [
       "\\begin{enumerate*}\n",
       "\\item 100\n",
       "\\item 50\n",
       "\\end{enumerate*}\n"
      ],
      "text/markdown": [
       "1. 100\n",
       "2. 50\n",
       "\n",
       "\n"
      ],
      "text/plain": [
       "[1] 100  50"
      ]
     },
     "metadata": {},
     "output_type": "display_data"
    }
   ],
   "source": [
    "X = read.table(\"X.csv\", sep=',', header=FALSE)\n",
    "y = read.table('y.csv')\n",
    "length(y)\n",
    "dim(X)"
   ]
  },
  {
   "cell_type": "markdown",
   "metadata": {},
   "source": [
    "## Selection Algorithm (function)"
   ]
  },
  {
   "cell_type": "code",
   "execution_count": 29,
   "metadata": {
    "capture_selection": [
     {
      "name": "selected_vars",
      "selection_type": "set"
     }
    ]
   },
   "outputs": [
    {
     "data": {
      "text/html": [
       "'[2,3,4,5,6,7,8,9,10,11,12,13,14,15,16,17,18,19]'"
      ],
      "text/latex": [
       "'{[}2,3,4,5,6,7,8,9,10,11,12,13,14,15,16,17,18,19{]}'"
      ],
      "text/markdown": [
       "'[2,3,4,5,6,7,8,9,10,11,12,13,14,15,16,17,18,19]'"
      ],
      "text/plain": [
       "[1] \"[2,3,4,5,6,7,8,9,10,11,12,13,14,15,16,17,18,19]\""
      ]
     },
     "metadata": {},
     "output_type": "display_data"
    }
   ],
   "source": [
    "selection_algorithm <- function(X, y) {\n",
    "    n <- nrow(X)\n",
    "    p <- ncol(X)\n",
    "    \n",
    "    min_success <- 6\n",
    "    ntries <- 10\n",
    "    \n",
    "    make_lambda_grid <- function(X, y) {\n",
    "        # Return a vector of lambda values where the corresponding lasso model\n",
    "        # satisfies the following constraint:\n",
    "        #   number of selected variables < sqrt(0.8 * p)\n",
    "        p <- ncol(X)\n",
    "        model <- cv.glmnet(X, y, alpha=1)$glmnet.fit\n",
    "        lambdas <- model$lambda\n",
    "        nselected <- model$df  # number of selected vars for each lambda\n",
    "        return(lambdas[nselected < sqrt(0.8 * p)])\n",
    "    }\n",
    "\n",
    "    lambda_grid <- make_lambda_grid(X, y)\n",
    "    success <- matrix(0, nrow=p, ncol=length(lambda_grid))\n",
    "    \n",
    "    for(i in 1:ntries) {\n",
    "        subsample_indexes <- sample(1:n, floor(n/2), replace=FALSE)\n",
    "        Xsub <- X[subsample_indexes,]\n",
    "        noisy_y <- y[subsample_indexes] + rnorm(floor(n/2))\n",
    "        model <- cv.glmnet(Xsub, noisy_y, alpha=1)\n",
    "        \n",
    "        lambdas <- model$lambda\n",
    "        coefs <- coef(model, lambda_grid)\n",
    "        success <- success + (coefs[-1,] != 0)\n",
    "    }\n",
    "    \n",
    "    selection_fn <- function(x) {\n",
    "        return(sum(x > min_success) > 0)\n",
    "    }\n",
    "    selected <- apply(X=success, MARGIN=2, FUN=selection_fn)\n",
    "    vars <- which(selected != 0)  # indexes of selected lambdas\n",
    "    return(toJSON(as.numeric(vars)))\n",
    "}\n",
    "\n",
    "selected_vars <- selection_algorithm(as.matrix(X), y[,1])\n",
    "selected_vars"
   ]
  },
  {
   "cell_type": "code",
   "execution_count": 22,
   "metadata": {},
   "outputs": [
    {
     "name": "stdout",
     "output_type": "stream",
     "text": [
      " [1]  1  2  3  4  5  6  7  8  9 10 11 12 13 14 15 16 17 18 19\n"
     ]
    }
   ],
   "source": [
    "print(selected_vars)"
   ]
  },
  {
   "cell_type": "code",
   "execution_count": 11,
   "metadata": {
    "collapsed": true,
    "data_model": {
     "estimators": "compute_estimators",
     "resample_data": "resample_data",
     "sufficient_statistics": "compute_sufficient_statistics"
    }
   },
   "outputs": [],
   "source": [
    "compute_sufficient_statistics <- function(X, y, fixed_selection) {\n",
    "    fixed_selection <- fromJSON(fixed_selection)\n",
    "    return(list(t(X) %*% y, sum(y^2)))\n",
    "}\n",
    "\n",
    "compute_estimators <- function(suff_stat, fixed_sel, set_sel) {\n",
    "    fixed_selection <- fromJSON(fixed_sel)\n",
    "    set_sel <- fromJSON(set_sel)\n",
    "    return(ginv(t(X) %*% X %*% (t(X) %*% y))[set_sel['selected_vars']])\n",
    "}\n",
    "\n",
    "resample_data <- function(X, y, fixed_sel) {\n",
    "    fixed_sel <- fromJSON(fixed_sel)\n",
    "    n <- nrow(X)\n",
    "    p <- ncol(X)\n",
    "    resids <- y - X %*% ginv(t(X) %*% X %*% (t(X) %*% y))\n",
    "    fitted <- y - resids\n",
    "    \n",
    "    resampled <- sample(1:n, n, replace=TRUE)\n",
    "    y_rilde <- fitted + resids[resampled]\n",
    "    \n",
    "    return(list(\"X\" = X, \"y\" = y_tilde))\n",
    "}"
   ]
  },
  {
   "cell_type": "code",
   "execution_count": null,
   "metadata": {
    "collapsed": true
   },
   "outputs": [],
   "source": []
  }
 ],
 "metadata": {
  "celltoolbar": "Edit Metadata",
  "jupytext": {
   "cell_metadata_filter": "all,-slideshow"
  },
  "kernelspec": {
   "display_name": "R",
   "language": "R",
   "name": "ir"
  },
  "language_info": {
   "codemirror_mode": "r",
   "file_extension": ".r",
   "mimetype": "text/x-r-source",
   "name": "R",
   "pygments_lexer": "r",
   "version": "3.5.3"
  }
 },
 "nbformat": 4,
 "nbformat_minor": 2
}
