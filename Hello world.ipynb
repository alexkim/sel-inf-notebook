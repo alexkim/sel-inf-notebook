{
 "cells": [
  {
   "cell_type": "code",
   "execution_count": 1,
   "metadata": {},
   "outputs": [
    {
     "name": "stderr",
     "output_type": "stream",
     "text": [
      "/Users/jonathantaylor/anaconda/envs/py36/lib/python3.6/site-packages/rpy2/rinterface/__init__.py:186: RRuntimeWarning: Loaded gbm 2.1.5\n",
      "\n",
      "  warnings.warn(x, RRuntimeWarning)\n",
      "/Users/jonathantaylor/anaconda/envs/py36/lib/python3.6/site-packages/rpy2/rinterface/__init__.py:186: RRuntimeWarning: randomForest 4.6-14\n",
      "\n",
      "  warnings.warn(x, RRuntimeWarning)\n",
      "/Users/jonathantaylor/anaconda/envs/py36/lib/python3.6/site-packages/rpy2/rinterface/__init__.py:186: RRuntimeWarning: Type rfNews() to see new features/changes/bug fixes.\n",
      "\n",
      "  warnings.warn(x, RRuntimeWarning)\n",
      "Using TensorFlow backend.\n"
     ]
    }
   ],
   "source": [
    "import functools, uuid\n",
    "\n",
    "import numpy as np, pandas as pd\n",
    "from scipy.stats import norm as ndist\n",
    "\n",
    "import regreg.api as rr\n",
    "\n",
    "from selection.tests.instance import gaussian_instance\n",
    "\n",
    "\n",
    "from selection.learning.utils import full_model_inference, pivot_plot\n",
    "from selection.learning.core import split_sampler, keras_fit\n",
    "\n",
    "from sklearn.linear_model import lasso_path"
   ]
  },
  {
   "cell_type": "code",
   "execution_count": 2,
   "metadata": {},
   "outputs": [
    {
     "data": {
      "text/plain": [
       "'{\"capture_selection\": [{\"name\": \"selected_vars\", \"selection_type\": \"set\"}]}'"
      ]
     },
     "execution_count": 2,
     "metadata": {},
     "output_type": "execute_result"
    }
   ],
   "source": [
    "import json\n",
    "# metad = {'data_input': [['X', 'X.csv'], ['y', 'y.csv']]}\n",
    "metad = {'capture_selection': [{'name':'selected_vars', 'selection_type': 'set'}]} # could capture more than one thing in a cell\n",
    "#metad = {'data_model': {'sufficient_statistics': 'compute_sufficient_statistics', \n",
    "#                        'estimators': 'estimators', \n",
    "#                        'resample_data': 'resample_data'}}\n",
    "\n",
    "\n",
    "\n",
    "json.dumps(metad)"
   ]
  },
  {
   "cell_type": "code",
   "execution_count": 3,
   "metadata": {
    "collapsed": true,
    "data_input": [
     [
      "X",
      "X.csv"
     ],
     [
      "y",
      "y.csv"
     ]
    ]
   },
   "outputs": [],
   "source": [
    "# researcher loads in data\n",
    "n, p, s = 100, 50, 5\n",
    "sigma = 1.\n",
    "signal = 10.\n",
    "#X, y, truth = gaussian_instance(n=n,\n",
    "#                                p=p,\n",
    "#                                s=s,\n",
    "#                                equicorrelated=False,\n",
    "#                                rho=0.1,\n",
    "#                                sigma=sigma,\n",
    "#                                signal=signal,\n",
    "#                                random_signs=True,\n",
    "#                                scale=True)[:3]\n",
    "#np.savetxt(\"X.csv\", X, delimiter=',')\n",
    "#np.savetxt('y.csv', y, delimiter=',')"
   ]
  },
  {
   "cell_type": "code",
   "execution_count": 4,
   "metadata": {
    "capture_selection": [
     {
      "name": "selected_vars",
      "selection_type": "set"
     }
    ],
    "collapsed": true
   },
   "outputs": [],
   "source": [
    "# we don't need to make any assumption on signature of selection algorithm\n",
    "\n",
    "def selection_algorithm(X, y):\n",
    "    \n",
    "    n, p = X.shape\n",
    "    \n",
    "    XTX = X.T.dot(X)\n",
    "    XTXi = np.linalg.inv(XTX)\n",
    "\n",
    "    min_success = 6\n",
    "    ntries = 10\n",
    "\n",
    "    def _alpha_grid(X, y, center, XTX):\n",
    "        n, p = X.shape\n",
    "        alphas, coefs, _ = lasso_path(X, y, Xy=center, precompute=XTX)\n",
    "        nselected = np.count_nonzero(coefs, axis=0)\n",
    "        return alphas[nselected < np.sqrt(0.8 * p)]\n",
    "\n",
    "    alpha_grid = _alpha_grid(X, y, X.T.dot(y), XTX)\n",
    "    success = np.zeros((p, alpha_grid.shape[0]))\n",
    "\n",
    "    for _ in range(ntries):\n",
    "        subsample = np.random.choice(range(n), n // 2, replace=False)\n",
    "        Xsub = X[subsample]\n",
    "        noisy_S = Xsub.T.dot(y[subsample])\n",
    "        _, coefs, _ = lasso_path(X, y, Xy = noisy_S, precompute=Xsub.T.dot(Xsub), alphas=alpha_grid)\n",
    "        success += np.abs(np.sign(coefs))\n",
    "\n",
    "    selected = np.apply_along_axis(lambda row: any(x>min_success for x in row), 1, success)\n",
    "    vars = set(np.nonzero(selected)[0])\n",
    "    return sorted(list(vars))\n",
    "\n",
    "selected_vars = selection_algorithm(X, y)"
   ]
  },
  {
   "cell_type": "code",
   "execution_count": 5,
   "metadata": {
    "collapsed": true,
    "data_model": {
     "estimators": "estimators",
     "resample_data": "resample_data",
     "sufficient_statistics": "compute_sufficient_statistics"
    }
   },
   "outputs": [],
   "source": [
    "# function to compute sufficient statistics\n",
    "\n",
    "# let's say that selection type can be \"fixed\" or \"set\" i.e. \"Lee/selected\" vs. \"Liu/full\"\n",
    "\n",
    "# model (and hence sufficient statistics) can be a function of all \"fixed\" selections\n",
    "\n",
    "# below: fixed_selection and set_selection should be dictionaries (python) or lists (R)\n",
    "\n",
    "def compute_sufficient_statistics(data, fixed_selection):\n",
    "    fixed_selection = json.loads(fixed_selection)\n",
    "    X, y = data['X'], data['y']\n",
    "    return np.hstack([X.T.dot(y), (y**2).sum().reshape(-1)])\n",
    "\n",
    "# compute estimator from sufficient statistics\n",
    "def estimators(suff_stat, fixed_selection, set_selection):\n",
    "    fixed_selection = json.loads(fixed_selection)\n",
    "    set_selection = json.loads(set_selection)\n",
    "    return np.linalg.pinv(X.T.dot(X)).dot(X.T.dot(y))[set_selection['selected_vars']]\n",
    "\n",
    "# resample data -- should return a dictionary with keys found in various 'data_input' cells\n",
    "def resample_data(data, fixed_selection):\n",
    "    fixed_selection = json.loads(fixed_selection)\n",
    "    X, y = data['X'], data['y']\n",
    "    n, p = X.shape\n",
    "    resids = y - X.dot(np.linalg.pinv(X.T.dot(X)).dot(X.T.dot(y)))\n",
    "    fitted = y - resids\n",
    "    \n",
    "    resampled = np.random.choice(range(n), n, replace=True)\n",
    "    ytilde = fitted + resids[resampled]\n",
    "    \n",
    "    return {'X':X, 'y':ytilde}"
   ]
  }
 ],
 "metadata": {
  "celltoolbar": "Edit Metadata",
  "jupytext": {
   "cell_metadata_filter": "all,-slideshow"
  },
  "kernelspec": {
   "display_name": "Python 3",
   "language": "python",
   "name": "python3"
  },
  "language_info": {
   "codemirror_mode": {
    "name": "ipython",
    "version": 3
   },
   "file_extension": ".py",
   "mimetype": "text/x-python",
   "name": "python",
   "nbconvert_exporter": "python",
   "pygments_lexer": "ipython3",
   "version": "3.6.2"
  }
 },
 "nbformat": 4,
 "nbformat_minor": 2
}
