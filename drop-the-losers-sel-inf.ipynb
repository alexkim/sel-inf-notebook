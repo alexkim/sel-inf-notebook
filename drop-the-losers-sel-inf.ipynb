{
 "cells": [
  {
   "cell_type": "code",
   "execution_count": 17,
   "metadata": {},
   "outputs": [],
   "source": [
    "import numpy as np\n",
    "import nbformat  # read notebooks\n",
    "from nbconvert.preprocessors import ExecutePreprocessor  # execute notebooks"
   ]
  },
  {
   "cell_type": "markdown",
   "metadata": {},
   "source": [
    "# Inference After Drop the Losers Selection\n",
    "\n",
    "https://nbconvert.readthedocs.io/en/latest/api/preprocessors.html\n",
    "\n",
    "https://github.com/jupyter/nbconvert/blob/master/nbconvert/preprocessors/base.py\n",
    "\n",
    "This notebooks aims to apply selective inference to `drop-the-losers.ipynb` by parsing notebook cell metadata and using a custom sublass of `nbconvert.preprocessors.ExecutePreprocessor`."
   ]
  },
  {
   "cell_type": "markdown",
   "metadata": {},
   "source": [
    "## Custom Preprocessor Class Definition\n",
    "\n",
    "https://github.com/jupyter/nbconvert/blob/master/nbconvert/preprocessors/execute.py\n",
    "\n",
    "Subclassed from `ExecutePreprocessor`"
   ]
  },
  {
   "cell_type": "markdown",
   "metadata": {},
   "source": [
    "### Prototype from meeting"
   ]
  },
  {
   "cell_type": "code",
   "execution_count": 18,
   "metadata": {},
   "outputs": [],
   "source": [
    "class MyExecutePreprocessor(ExecutePreprocessor):\n",
    "    \"\"\"Notebook preprocessor for selective inference.\n",
    "    \"\"\"\n",
    "    def run_cell(self, cell, cell_index):\n",
    "        \"\"\"Run the specified notebook cell. Note: `cell` and `cell_index` generally\n",
    "        aren't given by the user, but are automatically passed in as arguments.\n",
    "        \"\"\"\n",
    "        print('cell metadata', cell.source, cell_index)\n",
    "        cell.source = 'x=3\\n' + cell.source\n",
    "        return ExecutePreprocessor.run_cell(self, cell, cell_index)"
   ]
  },
  {
   "cell_type": "markdown",
   "metadata": {},
   "source": [
    "### Updated Version\n",
    "\n",
    "This version of the preprocessor instead focuses on modifying `preprocess_cell()`.\n",
    "\n",
    "The goal here is to save certain outputs into the `MyExecutePreprocessor` object's `resources` dictionary, based on the metadata of each cell."
   ]
  },
  {
   "cell_type": "code",
   "execution_count": 19,
   "metadata": {},
   "outputs": [],
   "source": [
    "class MyExecutePreprocessor(ExecutePreprocessor):\n",
    "    \"\"\"Notebook preprocessor for selective inference.\n",
    "    \"\"\"\n",
    "    def preprocess_cell(self, cell, resources, cell_index):\n",
    "        \"\"\"Executes a single code cell. Must return modified cell and resource dictionary.\n",
    "        \n",
    "        Parameters\n",
    "        ----------\n",
    "        cell : NotebookNode cell\n",
    "            Notebook cell being processed\n",
    "        resources : dictionary\n",
    "            Additional resources used in the conversion process.  Allows\n",
    "            preprocessors to pass variables into the Jinja engine.\n",
    "        index : int\n",
    "            Index of the cell being processed\n",
    "        \"\"\"\n",
    "        # Original code from execute.py\n",
    "        if cell.cell_type != 'code' or not cell.source.strip():\n",
    "            return cell, resources\n",
    "\n",
    "        reply, outputs = self.run_cell(cell, cell_index)  # main info from cell\n",
    "        \n",
    "        # NEW CODE: updating `resources` based on metadata\n",
    "        if cell.metadata == 'selected_vars':\n",
    "            resources.update({'selected_vars': outputs[0]})\n",
    "        \n",
    "        # Backwards compatibility for processes that wrap run_cell\n",
    "        cell.outputs = outputs\n",
    "\n",
    "        cell_allows_errors = (self.allow_errors or \"raises-exception\"\n",
    "                              in cell.metadata.get(\"tags\", []))\n",
    "\n",
    "        if self.force_raise_errors or not cell_allows_errors:\n",
    "            for out in cell.outputs:\n",
    "                if out.output_type == 'error':\n",
    "                    raise CellExecutionError.from_cell_and_msg(cell, out)\n",
    "            if (reply is not None) and reply['content']['status'] == 'error':\n",
    "                raise CellExecutionError.from_cell_and_msg(cell, reply['content'])\n",
    "\n",
    "        return cell, resources"
   ]
  },
  {
   "cell_type": "markdown",
   "metadata": {},
   "source": [
    "## Custom Preprocessor Tests\n",
    "\n",
    "https://github.com/jupyter/nbconvert/blob/master/nbconvert/preprocessors/base.py\n",
    "\n",
    "According to the docstring for `preprocess()` in `nbconvert.preprocessors.base`,\n",
    "\n",
    " > If you wish to apply your preprocessing to each cell, you might want to override preprocess_cell method instead.\n",
    "\n",
    "Therefore, we focus on writing a custom `preprocess_cell()` function in our subclass."
   ]
  },
  {
   "cell_type": "code",
   "execution_count": 20,
   "metadata": {},
   "outputs": [
    {
     "name": "stdout",
     "output_type": "stream",
     "text": [
      "{}\n",
      "{}\n",
      "{}\n",
      "{'save_output': True}\n",
      "{}\n",
      "{}\n"
     ]
    }
   ],
   "source": [
    "# Read the drop the losers notebook\n",
    "nbpath = 'drop-the-losers.ipynb'\n",
    "nb = nbformat.read(nbpath, nbformat.NO_CONVERT)\n",
    "\n",
    "# Loop over notebook cells\n",
    "for cell in nb['cells']:\n",
    "    print(cell['metadata'])"
   ]
  },
  {
   "cell_type": "markdown",
   "metadata": {},
   "source": [
    "### Preprocessing a Single Cell"
   ]
  },
  {
   "cell_type": "code",
   "execution_count": 21,
   "metadata": {},
   "outputs": [
    {
     "data": {
      "text/plain": [
       "'\\nParameters\\n----------\\ncell : NotebookNode cell\\n    Notebook cell being processed\\nresources : dictionary\\n    Additional resources used in the conversion process.  Allows\\n    preprocessors to pass variables into the Jinja engine.\\nindex : int\\n    Index of the cell being processed\\n'"
      ]
     },
     "execution_count": 21,
     "metadata": {},
     "output_type": "execute_result"
    }
   ],
   "source": [
    "# Docstring for preprocess_cell()\n",
    "\"\"\"\n",
    "Parameters\n",
    "----------\n",
    "cell : NotebookNode cell\n",
    "    Notebook cell being processed\n",
    "resources : dictionary\n",
    "    Additional resources used in the conversion process.  Allows\n",
    "    preprocessors to pass variables into the Jinja engine.\n",
    "index : int\n",
    "    Index of the cell being processed\n",
    "\"\"\""
   ]
  },
  {
   "cell_type": "code",
   "execution_count": 22,
   "metadata": {},
   "outputs": [
    {
     "ename": "AttributeError",
     "evalue": "'MyExecutePreprocessor' object has no attribute 'kc'",
     "output_type": "error",
     "traceback": [
      "\u001b[0;31m---------------------------------------------------------------------------\u001b[0m",
      "\u001b[0;31mAttributeError\u001b[0m                            Traceback (most recent call last)",
      "\u001b[0;32m<ipython-input-22-3f6fab4d9f79>\u001b[0m in \u001b[0;36m<module>\u001b[0;34m\u001b[0m\n\u001b[1;32m      2\u001b[0m \u001b[0;31m#mypp.preprocess(nb, resources={})\u001b[0m\u001b[0;34m\u001b[0m\u001b[0;34m\u001b[0m\u001b[0m\n\u001b[1;32m      3\u001b[0m \u001b[0mmy_cell\u001b[0m \u001b[0;34m=\u001b[0m \u001b[0mnb\u001b[0m\u001b[0;34m[\u001b[0m\u001b[0;34m'cells'\u001b[0m\u001b[0;34m]\u001b[0m\u001b[0;34m[\u001b[0m\u001b[0;36m0\u001b[0m\u001b[0;34m]\u001b[0m\u001b[0;34m\u001b[0m\u001b[0m\n\u001b[0;32m----> 4\u001b[0;31m \u001b[0mmypp\u001b[0m\u001b[0;34m.\u001b[0m\u001b[0mpreprocess_cell\u001b[0m\u001b[0;34m(\u001b[0m\u001b[0mmy_cell\u001b[0m\u001b[0;34m,\u001b[0m \u001b[0;34m{\u001b[0m\u001b[0;34m}\u001b[0m\u001b[0;34m,\u001b[0m \u001b[0;36m0\u001b[0m\u001b[0;34m)\u001b[0m\u001b[0;34m\u001b[0m\u001b[0m\n\u001b[0m",
      "\u001b[0;32m<ipython-input-19-5aebc5fe068f>\u001b[0m in \u001b[0;36mpreprocess_cell\u001b[0;34m(self, cell, resources, cell_index)\u001b[0m\n\u001b[1;32m     19\u001b[0m             \u001b[0;32mreturn\u001b[0m \u001b[0mcell\u001b[0m\u001b[0;34m,\u001b[0m \u001b[0mresources\u001b[0m\u001b[0;34m\u001b[0m\u001b[0m\n\u001b[1;32m     20\u001b[0m \u001b[0;34m\u001b[0m\u001b[0m\n\u001b[0;32m---> 21\u001b[0;31m         \u001b[0mreply\u001b[0m\u001b[0;34m,\u001b[0m \u001b[0moutputs\u001b[0m \u001b[0;34m=\u001b[0m \u001b[0mself\u001b[0m\u001b[0;34m.\u001b[0m\u001b[0mrun_cell\u001b[0m\u001b[0;34m(\u001b[0m\u001b[0mcell\u001b[0m\u001b[0;34m,\u001b[0m \u001b[0mcell_index\u001b[0m\u001b[0;34m)\u001b[0m  \u001b[0;31m# main info from cell\u001b[0m\u001b[0;34m\u001b[0m\u001b[0m\n\u001b[0m\u001b[1;32m     22\u001b[0m \u001b[0;34m\u001b[0m\u001b[0m\n\u001b[1;32m     23\u001b[0m         \u001b[0;31m# NEW CODE: updating `resources` based on metadata\u001b[0m\u001b[0;34m\u001b[0m\u001b[0;34m\u001b[0m\u001b[0m\n",
      "\u001b[0;32m~/envs/sel-inf/lib/python3.5/site-packages/nbconvert/preprocessors/execute.py\u001b[0m in \u001b[0;36mrun_cell\u001b[0;34m(self, cell, cell_index)\u001b[0m\n\u001b[1;32m    487\u001b[0m \u001b[0;34m\u001b[0m\u001b[0m\n\u001b[1;32m    488\u001b[0m     \u001b[0;32mdef\u001b[0m \u001b[0mrun_cell\u001b[0m\u001b[0;34m(\u001b[0m\u001b[0mself\u001b[0m\u001b[0;34m,\u001b[0m \u001b[0mcell\u001b[0m\u001b[0;34m,\u001b[0m \u001b[0mcell_index\u001b[0m\u001b[0;34m=\u001b[0m\u001b[0;36m0\u001b[0m\u001b[0;34m)\u001b[0m\u001b[0;34m:\u001b[0m\u001b[0;34m\u001b[0m\u001b[0m\n\u001b[0;32m--> 489\u001b[0;31m         \u001b[0mparent_msg_id\u001b[0m \u001b[0;34m=\u001b[0m \u001b[0mself\u001b[0m\u001b[0;34m.\u001b[0m\u001b[0mkc\u001b[0m\u001b[0;34m.\u001b[0m\u001b[0mexecute\u001b[0m\u001b[0;34m(\u001b[0m\u001b[0mcell\u001b[0m\u001b[0;34m.\u001b[0m\u001b[0msource\u001b[0m\u001b[0;34m)\u001b[0m\u001b[0;34m\u001b[0m\u001b[0m\n\u001b[0m\u001b[1;32m    490\u001b[0m         \u001b[0mself\u001b[0m\u001b[0;34m.\u001b[0m\u001b[0mlog\u001b[0m\u001b[0;34m.\u001b[0m\u001b[0mdebug\u001b[0m\u001b[0;34m(\u001b[0m\u001b[0;34m\"Executing cell:\\n%s\"\u001b[0m\u001b[0;34m,\u001b[0m \u001b[0mcell\u001b[0m\u001b[0;34m.\u001b[0m\u001b[0msource\u001b[0m\u001b[0;34m)\u001b[0m\u001b[0;34m\u001b[0m\u001b[0m\n\u001b[1;32m    491\u001b[0m         \u001b[0mexec_reply\u001b[0m \u001b[0;34m=\u001b[0m \u001b[0mself\u001b[0m\u001b[0;34m.\u001b[0m\u001b[0m_wait_for_reply\u001b[0m\u001b[0;34m(\u001b[0m\u001b[0mparent_msg_id\u001b[0m\u001b[0;34m,\u001b[0m \u001b[0mcell\u001b[0m\u001b[0;34m)\u001b[0m\u001b[0;34m\u001b[0m\u001b[0m\n",
      "\u001b[0;31mAttributeError\u001b[0m: 'MyExecutePreprocessor' object has no attribute 'kc'"
     ]
    }
   ],
   "source": [
    "mypp = MyExecutePreprocessor(timeout=600, kernel_name='python3')\n",
    "#mypp.preprocess(nb, resources={})\n",
    "my_cell = nb['cells'][0]\n",
    "mypp.preprocess_cell(my_cell, {}, 0)"
   ]
  }
 ],
 "metadata": {
  "kernelspec": {
   "display_name": "Python 3",
   "language": "python",
   "name": "python3"
  },
  "language_info": {
   "codemirror_mode": {
    "name": "ipython",
    "version": 3
   },
   "file_extension": ".py",
   "mimetype": "text/x-python",
   "name": "python",
   "nbconvert_exporter": "python",
   "pygments_lexer": "ipython3",
   "version": "3.5.3"
  }
 },
 "nbformat": 4,
 "nbformat_minor": 2
}
