{
 "cells": [
  {
   "cell_type": "code",
   "execution_count": 5,
   "metadata": {},
   "outputs": [
    {
     "name": "stderr",
     "output_type": "stream",
     "text": [
      "Using TensorFlow backend.\n",
      "/home/alex/envs/sel-inf/lib/python3.5/site-packages/selectinf/learning/utils.py:607: UserWarning: statsmodels not importable, `pvalue_plot` and `pvalue_plot_new` unavaliable\n",
      "  warnings.warn('statsmodels not importable, `pvalue_plot` and `pvalue_plot_new` unavaliable')\n",
      "/home/alex/envs/sel-inf/lib/python3.5/site-packages/selectinf/learning/utils.py:652: UserWarning: seaborn not found, `interval_plot` will not be available\n",
      "  warnings.warn('seaborn not found, `interval_plot` will not be available')\n"
     ]
    }
   ],
   "source": [
    "import functools, uuid\n",
    "\n",
    "import numpy as np, pandas as pd\n",
    "from scipy.stats import norm as ndist\n",
    "\n",
    "import regreg.api as rr\n",
    "\n",
    "from selectinf.tests.instance import gaussian_instance\n",
    "from selectinf.learning.utils import full_model_inference, pivot_plot\n",
    "from selectinf.learning.core import split_sampler, keras_fit\n",
    "\n",
    "from sklearn.linear_model import lasso_path"
   ]
  },
  {
   "cell_type": "markdown",
   "metadata": {},
   "source": [
    "## Code to generate JSON\n",
    "\n",
    "Helpful for generating cell metadata; not directly relevant to selection algorithm"
   ]
  },
  {
   "cell_type": "code",
   "execution_count": 3,
   "metadata": {},
   "outputs": [
    {
     "data": {
      "text/plain": [
       "'{\"capture_selection\": [{\"selection_type\": \"set\", \"name\": \"selected_vars\"}]}'"
      ]
     },
     "execution_count": 3,
     "metadata": {},
     "output_type": "execute_result"
    }
   ],
   "source": [
    "import json\n",
    "# metad = {'data_input': [['X', 'X.csv'], ['y', 'y.csv']]}\n",
    "metad = {'capture_selection': [{'name':'selected_vars', 'selection_type': 'set'}]} # could capture more than one thing in a cell\n",
    "#metad = {'data_model': {'sufficient_statistics': 'compute_sufficient_statistics', \n",
    "#                        'estimators': 'estimators', \n",
    "#                        'resample_data': 'resample_data'}}\n",
    "\n",
    "\n",
    "\n",
    "json.dumps(metad)"
   ]
  },
  {
   "cell_type": "markdown",
   "metadata": {},
   "source": [
    "## Data Loading\n",
    "\n",
    "Original sample"
   ]
  },
  {
   "cell_type": "code",
   "execution_count": 4,
   "metadata": {
    "data_input": [
     [
      "X",
      "X.csv"
     ],
     [
      "y",
      "y.csv"
     ]
    ]
   },
   "outputs": [],
   "source": [
    "# researcher loads in data\n",
    "n, p, s = 100, 50, 5\n",
    "sigma = 1.\n",
    "signal = 10.\n",
    "#X, y, truth = gaussian_instance(n=n,\n",
    "#                                p=p,\n",
    "#                                s=s,\n",
    "#                                equicorrelated=False,\n",
    "#                                rho=0.1,\n",
    "#                                sigma=sigma,\n",
    "#                                signal=signal,\n",
    "#                                random_signs=True,\n",
    "#                                scale=True)[:3]\n",
    "#np.savetxt(\"X.csv\", X, delimiter=',')\n",
    "#np.savetxt('y.csv', y, delimiter=',')\n",
    "X = np.loadtxt(\"../X.csv\", delimiter=',')\n",
    "y = np.loadtxt('../y.csv', delimiter=',')"
   ]
  },
  {
   "cell_type": "markdown",
   "metadata": {},
   "source": [
    "## Selection Algorithm\n",
    "\n",
    "Relevant metadata:\n",
    "\n",
    "```\n",
    "\"capture_selection\": [\n",
    "  {\n",
    "    \"selection_type\": \"set\",\n",
    "    \"encoder\": \"dataframe\",\n",
    "    \"name\": \"selected_vars\"\n",
    "  }\n",
    "```\n",
    "\n",
    "The \"keys\" are universal elements of the algorithm. The \"values\" are the corresponding names of these elements in the notebook code."
   ]
  },
  {
   "cell_type": "code",
   "execution_count": 5,
   "metadata": {
    "capture_selection": [
     {
      "encoder": "dataframe",
      "name": "selected_vars",
      "selection_type": "set"
     }
    ]
   },
   "outputs": [
    {
     "data": {
      "text/html": [
       "<div>\n",
       "<style scoped>\n",
       "    .dataframe tbody tr th:only-of-type {\n",
       "        vertical-align: middle;\n",
       "    }\n",
       "\n",
       "    .dataframe tbody tr th {\n",
       "        vertical-align: top;\n",
       "    }\n",
       "\n",
       "    .dataframe thead th {\n",
       "        text-align: right;\n",
       "    }\n",
       "</style>\n",
       "<table border=\"1\" class=\"dataframe\">\n",
       "  <thead>\n",
       "    <tr style=\"text-align: right;\">\n",
       "      <th></th>\n",
       "      <th>selection</th>\n",
       "    </tr>\n",
       "  </thead>\n",
       "  <tbody>\n",
       "    <tr>\n",
       "      <th>0</th>\n",
       "      <td>48</td>\n",
       "    </tr>\n",
       "    <tr>\n",
       "      <th>1</th>\n",
       "      <td>29</td>\n",
       "    </tr>\n",
       "    <tr>\n",
       "      <th>2</th>\n",
       "      <td>12</td>\n",
       "    </tr>\n",
       "    <tr>\n",
       "      <th>3</th>\n",
       "      <td>13</td>\n",
       "    </tr>\n",
       "    <tr>\n",
       "      <th>4</th>\n",
       "      <td>31</td>\n",
       "    </tr>\n",
       "  </tbody>\n",
       "</table>\n",
       "</div>"
      ],
      "text/plain": [
       "   selection\n",
       "0         48\n",
       "1         29\n",
       "2         12\n",
       "3         13\n",
       "4         31"
      ]
     },
     "execution_count": 5,
     "metadata": {},
     "output_type": "execute_result"
    }
   ],
   "source": [
    "# we don't need to make any assumption on signature of selection algorithm\n",
    "\n",
    "def selection_algorithm(X, y):\n",
    "    \n",
    "    n, p = X.shape\n",
    "    \n",
    "    XTX = X.T.dot(X)\n",
    "    XTXi = np.linalg.inv(XTX)\n",
    "\n",
    "    min_success = 6\n",
    "    ntries = 10\n",
    "\n",
    "    def _alpha_grid(X, y, center, XTX):\n",
    "        n, p = X.shape\n",
    "        alphas, coefs, _ = lasso_path(X, y, Xy=center, precompute=XTX)\n",
    "        nselected = np.count_nonzero(coefs, axis=0)\n",
    "        return alphas[nselected < np.sqrt(0.8 * p)]\n",
    "\n",
    "    alpha_grid = _alpha_grid(X, y, X.T.dot(y), XTX)\n",
    "    success = np.zeros((p, alpha_grid.shape[0]))\n",
    "\n",
    "    for _ in range(ntries):\n",
    "        subsample = np.random.choice(range(n), n // 2, replace=False)\n",
    "        Xsub = X[subsample]\n",
    "        noisy_S = Xsub.T.dot(y[subsample])\n",
    "        _, coefs, _ = lasso_path(X, y, Xy = noisy_S, precompute=Xsub.T.dot(Xsub), alphas=alpha_grid)\n",
    "        success += np.abs(np.sign(coefs))\n",
    "\n",
    "    selected = np.apply_along_axis(lambda row: any(x>min_success for x in row), 1, success)\n",
    "    vars = set(np.nonzero(selected)[0])\n",
    "    return tuple([int(i) for i in vars])\n",
    "\n",
    "selected_vars = selection_algorithm(X, y)\n",
    "selected_vars = pd.DataFrame({'selection':selected_vars})\n",
    "selected_vars"
   ]
  },
  {
   "cell_type": "markdown",
   "metadata": {},
   "source": [
    "## Sufficient Statistics, Estimators, and Simulation\n",
    "\n",
    "Relevant metadata:\n",
    "\n",
    "```\n",
    "\"data_model\": {\n",
    "  \"sufficient_statistics\": \"compute_sufficient_statistics\",\n",
    "  \"estimators\": \"estimators\",\n",
    "  \"resample_data\": \"resample_data\"\n",
    "}\n",
    "```\n",
    "\n",
    "The \"keys\" are universal elements of the algorithm. The \"values\" are the corresponding names of these elements in the notebook code."
   ]
  },
  {
   "cell_type": "code",
   "execution_count": 12,
   "metadata": {
    "data_model": {
     "estimators": "estimators",
     "resample_data": "resample_data",
     "sufficient_statistics": "compute_sufficient_statistics"
    }
   },
   "outputs": [],
   "source": [
    "# let's say that selection type can be \"fixed\" (Lee/selected) or \"set\" (Liu/full)\n",
    "\n",
    "# model (and hence sufficient statistics) can be a function of all \"fixed\" selections\n",
    "\n",
    "# below: fixed_selection and set_selection should be dictionaries (python) or lists (R)\n",
    "\n",
    "def compute_sufficient_statistics(data, fixed_selection):\n",
    "    \"\"\"Computes sufficient statistics given data and fixed selection.\n",
    "\n",
    "    Parameters\n",
    "    ----------\n",
    "    data : dictionary(?)\n",
    "        A dictionary containing an 'X' matrix and a 'y' vector\n",
    "    fixed_selection : string\n",
    "        A string representation of a JSON object\n",
    "        \n",
    "    Returns\n",
    "    -------\n",
    "    suff_stat : ndarray\n",
    "        A numpy array representing the sufficient statistic\n",
    "    \"\"\"\n",
    "    fixed_selection = json.loads(fixed_selection)\n",
    "    X, y = data['X'], data['y']\n",
    "    suff_stat = np.hstack([X.T.dot(y), (y**2).sum().reshape(-1)])\n",
    "    return suff_stat\n",
    "\n",
    "# compute estimator from sufficient statistics\n",
    "def estimators(suff_stat, fixed_selection, set_selection):\n",
    "    \"\"\"Computes estimator from sufficient statistics.\n",
    "    \"\"\"\n",
    "    fixed_selection = json.loads(fixed_selection)\n",
    "    set_selection = json.loads(set_selection)\n",
    "    return np.linalg.pinv(X.T.dot(X)).dot(X.T.dot(y))[set_selection['selected_vars']]\n",
    "\n",
    "# resample data -- should return a dictionary with keys found in various 'data_input' cells\n",
    "def resample_data(data, fixed_selection):\n",
    "    fixed_selection = json.loads(fixed_selection)\n",
    "    X, y = data['X'], data['y']\n",
    "    n, p = X.shape\n",
    "    resids = y - X.dot(np.linalg.pinv(X.T.dot(X)).dot(X.T.dot(y)))\n",
    "    fitted = y - resids\n",
    "    \n",
    "    resampled = np.random.choice(range(n), n, replace=True)\n",
    "    ytilde = fitted + resids[resampled]\n",
    "    \n",
    "    return {'X':X, 'y':ytilde}"
   ]
  },
  {
   "cell_type": "markdown",
   "metadata": {},
   "source": [
    "## Selection Indicator"
   ]
  },
  {
   "cell_type": "code",
   "execution_count": 2,
   "metadata": {},
   "outputs": [
    {
     "ename": "NameError",
     "evalue": "name 'X' is not defined",
     "output_type": "error",
     "traceback": [
      "\u001b[0;31m---------------------------------------------------------------------------\u001b[0m",
      "\u001b[0;31mNameError\u001b[0m                                 Traceback (most recent call last)",
      "\u001b[0;32m<ipython-input-2-fb316dc15ccf>\u001b[0m in \u001b[0;36m<module>\u001b[0;34m\u001b[0m\n\u001b[1;32m      1\u001b[0m \u001b[0;31m# Suff stat test\u001b[0m\u001b[0;34m\u001b[0m\u001b[0;34m\u001b[0m\u001b[0m\n\u001b[0;32m----> 2\u001b[0;31m \u001b[0mdata\u001b[0m \u001b[0;34m=\u001b[0m \u001b[0;34m{\u001b[0m\u001b[0;34m'X'\u001b[0m\u001b[0;34m:\u001b[0m\u001b[0mX\u001b[0m\u001b[0;34m,\u001b[0m \u001b[0;34m'y'\u001b[0m\u001b[0;34m:\u001b[0m\u001b[0my\u001b[0m\u001b[0;34m}\u001b[0m\u001b[0;34m\u001b[0m\u001b[0m\n\u001b[0m\u001b[1;32m      3\u001b[0m \u001b[0msuff_stat\u001b[0m \u001b[0;34m=\u001b[0m \u001b[0mcompute_sufficient_statistics\u001b[0m\u001b[0;34m(\u001b[0m\u001b[0mdata\u001b[0m\u001b[0;34m,\u001b[0m \u001b[0;34m\"{}\"\u001b[0m\u001b[0;34m)\u001b[0m\u001b[0;34m\u001b[0m\u001b[0m\n\u001b[1;32m      4\u001b[0m \u001b[0;34m\u001b[0m\u001b[0m\n\u001b[1;32m      5\u001b[0m \u001b[0mprint\u001b[0m\u001b[0;34m(\u001b[0m\u001b[0msuff_stat\u001b[0m\u001b[0;34m)\u001b[0m\u001b[0;34m\u001b[0m\u001b[0m\n",
      "\u001b[0;31mNameError\u001b[0m: name 'X' is not defined"
     ]
    }
   ],
   "source": [
    "# Suff stat test\n",
    "data = {'X':X, 'y':y}\n",
    "suff_stat = compute_sufficient_statistics(data, \"{}\")\n",
    "\n",
    "print(suff_stat)\n",
    "\n",
    "import pandas as pd\n",
    "pd.DataFrame({'suff_stat':suff_stat})"
   ]
  },
  {
   "cell_type": "code",
   "execution_count": 22,
   "metadata": {},
   "outputs": [
    {
     "ename": "ImportError",
     "evalue": "cannot import name '_display_mimetype'",
     "output_type": "error",
     "traceback": [
      "\u001b[0;31m---------------------------------------------------------------------------\u001b[0m",
      "\u001b[0;31mImportError\u001b[0m                               Traceback (most recent call last)",
      "\u001b[0;32m<ipython-input-22-3cf0bc193f89>\u001b[0m in \u001b[0;36m<module>\u001b[0;34m()\u001b[0m\n\u001b[0;32m----> 1\u001b[0;31m \u001b[0;32mfrom\u001b[0m \u001b[0mIPython\u001b[0m\u001b[0;34m.\u001b[0m\u001b[0mdisplay\u001b[0m \u001b[0;32mimport\u001b[0m \u001b[0m_display_mimetype\u001b[0m\u001b[0;34m\u001b[0m\u001b[0m\n\u001b[0m",
      "\u001b[0;31mImportError\u001b[0m: cannot import name '_display_mimetype'"
     ]
    }
   ],
   "source": [
    "# TODO: remove?\n",
    "#from IPython.display import _display_mimetype"
   ]
  },
  {
   "cell_type": "code",
   "execution_count": 18,
   "metadata": {
    "collapsed": true
   },
   "outputs": [],
   "source": [
    "display.display_json(selected_vars)"
   ]
  },
  {
   "cell_type": "code",
   "execution_count": 23,
   "metadata": {
    "collapsed": true
   },
   "outputs": [],
   "source": [
    "display.display_html??"
   ]
  },
  {
   "cell_type": "code",
   "execution_count": 21,
   "metadata": {},
   "outputs": [
    {
     "ename": "AttributeError",
     "evalue": "module 'IPython.display' has no attribute '_display_mimetype'",
     "output_type": "error",
     "traceback": [
      "\u001b[0;31m---------------------------------------------------------------------------\u001b[0m",
      "\u001b[0;31mAttributeError\u001b[0m                            Traceback (most recent call last)",
      "\u001b[0;32m<ipython-input-21-e9693da5d52c>\u001b[0m in \u001b[0;36m<module>\u001b[0;34m()\u001b[0m\n\u001b[0;32m----> 1\u001b[0;31m \u001b[0mdisplay\u001b[0m\u001b[0;34m.\u001b[0m\u001b[0m_display_mimetype\u001b[0m\u001b[0;34m\u001b[0m\u001b[0m\n\u001b[0m",
      "\u001b[0;31mAttributeError\u001b[0m: module 'IPython.display' has no attribute '_display_mimetype'"
     ]
    }
   ],
   "source": [
    "display._display_mimetype"
   ]
  },
  {
   "cell_type": "code",
   "execution_count": 28,
   "metadata": {},
   "outputs": [
    {
     "data": {
      "text/plain": [
       "{'application.blah': '[12, 13, 48, 29, 31]'}"
      ]
     },
     "metadata": {},
     "output_type": "display_data"
    }
   ],
   "source": [
    "display.display({'application.blah': selected_vars}, raw=False)"
   ]
  }
 ],
 "metadata": {
  "celltoolbar": "Edit Metadata",
  "jupytext": {
   "cell_metadata_filter": "all,-slideshow"
  },
  "kernelspec": {
   "display_name": "Python 3",
   "language": "python",
   "name": "python3"
  },
  "language_info": {
   "codemirror_mode": {
    "name": "ipython",
    "version": 3
   },
   "file_extension": ".py",
   "mimetype": "text/x-python",
   "name": "python",
   "nbconvert_exporter": "python",
   "pygments_lexer": "ipython3",
   "version": "3.5.3"
  }
 },
 "nbformat": 4,
 "nbformat_minor": 2
}
