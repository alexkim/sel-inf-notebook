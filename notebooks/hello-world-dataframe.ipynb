{
 "cells": [
  {
   "cell_type": "code",
   "execution_count": 1,
   "metadata": {},
   "outputs": [
    {
     "name": "stderr",
     "output_type": "stream",
     "text": [
      "/home/alex/projects/research/black-box-inference/lib/regreg/regreg/smooth/glm.py:1156: UserWarning: unable to import PHReg from statsmodels, objective function is the zero function!\n",
      "  warnings.warn('unable to import PHReg from statsmodels, objective function is the zero function!')\n",
      "Using TensorFlow backend.\n",
      "/home/alex/envs/sel-inf/lib/python3.5/site-packages/selectinf/learning/utils.py:607: UserWarning: statsmodels not importable, `pvalue_plot` and `pvalue_plot_new` unavaliable\n",
      "  warnings.warn('statsmodels not importable, `pvalue_plot` and `pvalue_plot_new` unavaliable')\n",
      "/home/alex/envs/sel-inf/lib/python3.5/site-packages/selectinf/learning/utils.py:652: UserWarning: seaborn not found, `interval_plot` will not be available\n",
      "  warnings.warn('seaborn not found, `interval_plot` will not be available')\n"
     ]
    }
   ],
   "source": [
    "import functools, uuid\n",
    "import json\n",
    "\n",
    "import numpy as np, pandas as pd\n",
    "from scipy.stats import norm as ndist\n",
    "\n",
    "import regreg.api as rr\n",
    "\n",
    "from selectinf.tests.instance import gaussian_instance\n",
    "from selectinf.learning.utils import full_model_inference, pivot_plot\n",
    "from selectinf.learning.core import split_sampler, keras_fit\n",
    "\n",
    "from sklearn.linear_model import lasso_path"
   ]
  },
  {
   "cell_type": "markdown",
   "metadata": {},
   "source": [
    "## Code to generate JSON\n",
    "\n",
    "Helpful for generating cell metadata; not directly relevant to selection algorithm"
   ]
  },
  {
   "cell_type": "code",
   "execution_count": 3,
   "metadata": {},
   "outputs": [
    {
     "data": {
      "text/plain": [
       "'{\"capture_selection\": [{\"selection_type\": \"set\", \"name\": \"selected_vars\"}]}'"
      ]
     },
     "execution_count": 3,
     "metadata": {},
     "output_type": "execute_result"
    }
   ],
   "source": [
    "import json\n",
    "# metad = {'data_input': [['X', 'X.csv'], ['y', 'y.csv']]}\n",
    "metad = {'capture_selection': [{'name':'selected_vars', 'selection_type': 'set'}]} # could capture more than one thing in a cell\n",
    "#metad = {'data_model': {'sufficient_statistics': 'compute_sufficient_statistics', \n",
    "#                        'estimators': 'estimators', \n",
    "#                        'resample_data': 'resample_data'}}\n",
    "\n",
    "\n",
    "\n",
    "json.dumps(metad)"
   ]
  },
  {
   "cell_type": "markdown",
   "metadata": {},
   "source": [
    "## Data Loading\n",
    "\n",
    "Original sample"
   ]
  },
  {
   "cell_type": "code",
   "execution_count": 2,
   "metadata": {
    "data_input": [
     [
      "X",
      "X.csv"
     ],
     [
      "y",
      "y.csv"
     ]
    ]
   },
   "outputs": [],
   "source": [
    "# researcher loads in data\n",
    "n, p, s = 100, 50, 5\n",
    "sigma = 1.\n",
    "signal = 10.\n",
    "#X, y, truth = gaussian_instance(n=n,\n",
    "#                                p=p,\n",
    "#                                s=s,\n",
    "#                                equicorrelated=False,\n",
    "#                                rho=0.1,\n",
    "#                                sigma=sigma,\n",
    "#                                signal=signal,\n",
    "#                                random_signs=True,\n",
    "#                                scale=True)[:3]\n",
    "#np.savetxt(\"X.csv\", X, delimiter=',')\n",
    "#np.savetxt('y.csv', y, delimiter=',')\n",
    "X = np.loadtxt(\"../X.csv\", delimiter=',')\n",
    "y = np.loadtxt('../y.csv', delimiter=',')"
   ]
  },
  {
   "cell_type": "markdown",
   "metadata": {},
   "source": [
    "## Selection Algorithm\n",
    "\n",
    "Relevant metadata:\n",
    "\n",
    "```\n",
    "\"capture_selection\": [\n",
    "  {\n",
    "    \"selection_type\": \"set\",\n",
    "    \"encoder\": \"dataframe\",\n",
    "    \"name\": \"selected_vars\"\n",
    "  }\n",
    "```\n",
    "\n",
    "The \"keys\" are universal elements of the algorithm. The \"values\" are the corresponding names of these elements in the notebook code."
   ]
  },
  {
   "cell_type": "code",
   "execution_count": 3,
   "metadata": {
    "capture_selection": [
     {
      "encoder": "dataframe",
      "name": "selected_vars",
      "selection_type": "set"
     }
    ]
   },
   "outputs": [
    {
     "data": {
      "text/html": [
       "<div>\n",
       "<style scoped>\n",
       "    .dataframe tbody tr th:only-of-type {\n",
       "        vertical-align: middle;\n",
       "    }\n",
       "\n",
       "    .dataframe tbody tr th {\n",
       "        vertical-align: top;\n",
       "    }\n",
       "\n",
       "    .dataframe thead th {\n",
       "        text-align: right;\n",
       "    }\n",
       "</style>\n",
       "<table border=\"1\" class=\"dataframe\">\n",
       "  <thead>\n",
       "    <tr style=\"text-align: right;\">\n",
       "      <th></th>\n",
       "      <th>selection</th>\n",
       "    </tr>\n",
       "  </thead>\n",
       "  <tbody>\n",
       "    <tr>\n",
       "      <th>0</th>\n",
       "      <td>48</td>\n",
       "    </tr>\n",
       "    <tr>\n",
       "      <th>1</th>\n",
       "      <td>29</td>\n",
       "    </tr>\n",
       "    <tr>\n",
       "      <th>2</th>\n",
       "      <td>12</td>\n",
       "    </tr>\n",
       "    <tr>\n",
       "      <th>3</th>\n",
       "      <td>13</td>\n",
       "    </tr>\n",
       "    <tr>\n",
       "      <th>4</th>\n",
       "      <td>31</td>\n",
       "    </tr>\n",
       "  </tbody>\n",
       "</table>\n",
       "</div>"
      ],
      "text/plain": [
       "   selection\n",
       "0         48\n",
       "1         29\n",
       "2         12\n",
       "3         13\n",
       "4         31"
      ]
     },
     "execution_count": 3,
     "metadata": {},
     "output_type": "execute_result"
    }
   ],
   "source": [
    "# we don't need to make any assumption on signature of selection algorithm\n",
    "\n",
    "def selection_algorithm(X, y):\n",
    "    \n",
    "    n, p = X.shape\n",
    "    \n",
    "    XTX = X.T.dot(X)\n",
    "    XTXi = np.linalg.inv(XTX)\n",
    "\n",
    "    min_success = 6\n",
    "    ntries = 10\n",
    "\n",
    "    def _alpha_grid(X, y, center, XTX):\n",
    "        n, p = X.shape\n",
    "        alphas, coefs, _ = lasso_path(X, y, Xy=center, precompute=XTX)\n",
    "        nselected = np.count_nonzero(coefs, axis=0)\n",
    "        return alphas[nselected < np.sqrt(0.8 * p)]\n",
    "\n",
    "    alpha_grid = _alpha_grid(X, y, X.T.dot(y), XTX)\n",
    "    success = np.zeros((p, alpha_grid.shape[0]))\n",
    "\n",
    "    for _ in range(ntries):\n",
    "        subsample = np.random.choice(range(n), n // 2, replace=False)\n",
    "        Xsub = X[subsample]\n",
    "        noisy_S = Xsub.T.dot(y[subsample])\n",
    "        _, coefs, _ = lasso_path(X, y, Xy = noisy_S, precompute=Xsub.T.dot(Xsub), alphas=alpha_grid)\n",
    "        success += np.abs(np.sign(coefs))\n",
    "\n",
    "    selected = np.apply_along_axis(lambda row: any(x>min_success for x in row), 1, success)\n",
    "    vars = set(np.nonzero(selected)[0])\n",
    "    return tuple([int(i) for i in vars])\n",
    "\n",
    "selected_vars = selection_algorithm(X, y)\n",
    "selected_vars = pd.DataFrame({'selection':selected_vars})\n",
    "selected_vars"
   ]
  },
  {
   "cell_type": "markdown",
   "metadata": {},
   "source": [
    "## Sufficient Statistics, Estimators, and Simulation\n",
    "\n",
    "Relevant metadata:\n",
    "\n",
    "```\n",
    "\"functions\": \"stats_computations\",\n",
    "\"data_model\": {\n",
    "  \"sufficient_statistics\": \"compute_sufficient_statistics\",\n",
    "  \"estimators\": \"estimators\",\n",
    "  \"resample_data\": \"resample_data\"\n",
    "}\n",
    "```\n",
    "\n",
    "The \"keys\" are universal elements of the algorithm. The \"values\" are the corresponding names of these elements in the notebook code."
   ]
  },
  {
   "cell_type": "code",
   "execution_count": 4,
   "metadata": {
    "data_model": {
     "estimators": "estimators",
     "resample_data": "resample_data",
     "sufficient_statistics": "compute_sufficient_statistics"
    },
    "functions": "stats_computations"
   },
   "outputs": [],
   "source": [
    "# let's say that selection type can be \"fixed\" (Lee/selected) or \"set\" (Liu/full)\n",
    "\n",
    "# model (and hence sufficient statistics) can be a function of all \"fixed\" selections\n",
    "\n",
    "# below: fixed_selection and set_selection should be dictionaries (python) or lists (R)\n",
    "\n",
    "def compute_sufficient_statistics(data, fixed_selection):\n",
    "    \"\"\"Computes sufficient statistics given data and fixed selection.\n",
    "\n",
    "    Parameters\n",
    "    ----------\n",
    "    data : dictionary(?)\n",
    "        A dictionary containing an 'X' matrix and a 'y' vector\n",
    "    fixed_selection : string\n",
    "        A string representation of a JSON object\n",
    "        \n",
    "    Returns\n",
    "    -------\n",
    "    suff_stat : ndarray\n",
    "        A numpy array representing the sufficient statistic\n",
    "    \"\"\"\n",
    "    fixed_selection = json.loads(fixed_selection)\n",
    "    X, y = data['X'], data['y']\n",
    "    suff_stat = np.hstack([X.T.dot(y), (y**2).sum().reshape(-1)])\n",
    "    return suff_stat\n",
    "\n",
    "# compute estimator from sufficient statistics\n",
    "def estimators(suff_stat, fixed_selection, set_selection):\n",
    "    \"\"\"Computes estimator from sufficient statistics.\n",
    "    \"\"\"\n",
    "    fixed_selection = json.loads(fixed_selection)\n",
    "    set_selection = json.loads(set_selection)\n",
    "    return np.linalg.pinv(X.T.dot(X)).dot(X.T.dot(y))[set_selection['selected_vars']]\n",
    "\n",
    "# resample data -- should return a dictionary with keys found in various 'data_input' cells\n",
    "def resample_data(data, fixed_selection):\n",
    "    fixed_selection = json.loads(fixed_selection)\n",
    "    X, y = data['X'], data['y']\n",
    "    n, p = X.shape\n",
    "    resids = y - X.dot(np.linalg.pinv(X.T.dot(X)).dot(X.T.dot(y)))\n",
    "    fitted = y - resids\n",
    "    \n",
    "    resampled = np.random.choice(range(n), n, replace=True)\n",
    "    ytilde = fitted + resids[resampled]\n",
    "    \n",
    "    return {'X':X, 'y':ytilde}"
   ]
  },
  {
   "cell_type": "markdown",
   "metadata": {},
   "source": [
    "## Selection Indicators\n",
    "\n",
    "**--INCOMPLETE--**\n",
    "\n",
    "Relevant metadata:\n",
    "\n",
    "```\n",
    "\"functions\": \"sel_indicators\",\n",
    "\"data_model\": {\n",
    "  \"selection_indicator_function\": \"get_fixed_sel_indicator\"\n",
    "}```"
   ]
  },
  {
   "cell_type": "code",
   "execution_count": 6,
   "metadata": {
    "data_model": {
     "selection_indicator_function": "get_fixed_sel_indicator"
    },
    "functions": "sel_indicators"
   },
   "outputs": [],
   "source": [
    "def get_fixed_sel_indicator(original_sel_vars, simulated_sel_vars,):\n",
    "    #fixed_sel_indicator = original_sel_vars\n",
    "    pass"
   ]
  },
  {
   "cell_type": "code",
   "execution_count": 5,
   "metadata": {},
   "outputs": [
    {
     "name": "stdout",
     "output_type": "stream",
     "text": [
      "[-1.25089685e+00 -2.29239775e+00 -1.07697507e+00 -1.36367808e+00\n",
      " -8.51187558e-02 -2.19053975e+00  2.59859694e+00 -1.90102351e+00\n",
      " -3.18895988e-02  7.53332365e-01  1.32528230e-01  3.72838910e+00\n",
      "  7.42408826e+00  8.31215419e+00  1.43802338e+00  4.41323113e+00\n",
      " -2.03660835e+00 -8.60372495e-02 -1.56330088e+00 -2.17914001e+00\n",
      " -1.00737207e+00 -4.22625157e-01  1.65384949e+00  9.41333021e-01\n",
      " -8.99705482e-01  4.75265957e-01 -1.26147746e+00 -5.90677913e-01\n",
      "  9.41026051e-01  1.20281741e+01  2.91913744e+00  6.20636582e+00\n",
      "  2.22615774e+00  2.80390222e+00  2.11591256e+00  6.65691032e+00\n",
      "  2.84409040e-01  3.74522178e+00  7.80445247e-01 -6.98732335e-01\n",
      "  8.97876732e-01  9.03479483e-01 -2.55691845e+00 -3.40592015e+00\n",
      "  1.47933107e-01 -1.00425372e+00  1.21435577e+00  4.73450451e+00\n",
      "  7.61889222e+00 -3.97760646e+00  4.80679950e+02]\n"
     ]
    },
    {
     "data": {
      "text/html": [
       "<div>\n",
       "<style scoped>\n",
       "    .dataframe tbody tr th:only-of-type {\n",
       "        vertical-align: middle;\n",
       "    }\n",
       "\n",
       "    .dataframe tbody tr th {\n",
       "        vertical-align: top;\n",
       "    }\n",
       "\n",
       "    .dataframe thead th {\n",
       "        text-align: right;\n",
       "    }\n",
       "</style>\n",
       "<table border=\"1\" class=\"dataframe\">\n",
       "  <thead>\n",
       "    <tr style=\"text-align: right;\">\n",
       "      <th></th>\n",
       "      <th>suff_stat</th>\n",
       "    </tr>\n",
       "  </thead>\n",
       "  <tbody>\n",
       "    <tr>\n",
       "      <th>0</th>\n",
       "      <td>-1.250897</td>\n",
       "    </tr>\n",
       "    <tr>\n",
       "      <th>1</th>\n",
       "      <td>-2.292398</td>\n",
       "    </tr>\n",
       "    <tr>\n",
       "      <th>2</th>\n",
       "      <td>-1.076975</td>\n",
       "    </tr>\n",
       "    <tr>\n",
       "      <th>3</th>\n",
       "      <td>-1.363678</td>\n",
       "    </tr>\n",
       "    <tr>\n",
       "      <th>4</th>\n",
       "      <td>-0.085119</td>\n",
       "    </tr>\n",
       "    <tr>\n",
       "      <th>5</th>\n",
       "      <td>-2.190540</td>\n",
       "    </tr>\n",
       "    <tr>\n",
       "      <th>6</th>\n",
       "      <td>2.598597</td>\n",
       "    </tr>\n",
       "    <tr>\n",
       "      <th>7</th>\n",
       "      <td>-1.901024</td>\n",
       "    </tr>\n",
       "    <tr>\n",
       "      <th>8</th>\n",
       "      <td>-0.031890</td>\n",
       "    </tr>\n",
       "    <tr>\n",
       "      <th>9</th>\n",
       "      <td>0.753332</td>\n",
       "    </tr>\n",
       "    <tr>\n",
       "      <th>10</th>\n",
       "      <td>0.132528</td>\n",
       "    </tr>\n",
       "    <tr>\n",
       "      <th>11</th>\n",
       "      <td>3.728389</td>\n",
       "    </tr>\n",
       "    <tr>\n",
       "      <th>12</th>\n",
       "      <td>7.424088</td>\n",
       "    </tr>\n",
       "    <tr>\n",
       "      <th>13</th>\n",
       "      <td>8.312154</td>\n",
       "    </tr>\n",
       "    <tr>\n",
       "      <th>14</th>\n",
       "      <td>1.438023</td>\n",
       "    </tr>\n",
       "    <tr>\n",
       "      <th>15</th>\n",
       "      <td>4.413231</td>\n",
       "    </tr>\n",
       "    <tr>\n",
       "      <th>16</th>\n",
       "      <td>-2.036608</td>\n",
       "    </tr>\n",
       "    <tr>\n",
       "      <th>17</th>\n",
       "      <td>-0.086037</td>\n",
       "    </tr>\n",
       "    <tr>\n",
       "      <th>18</th>\n",
       "      <td>-1.563301</td>\n",
       "    </tr>\n",
       "    <tr>\n",
       "      <th>19</th>\n",
       "      <td>-2.179140</td>\n",
       "    </tr>\n",
       "    <tr>\n",
       "      <th>20</th>\n",
       "      <td>-1.007372</td>\n",
       "    </tr>\n",
       "    <tr>\n",
       "      <th>21</th>\n",
       "      <td>-0.422625</td>\n",
       "    </tr>\n",
       "    <tr>\n",
       "      <th>22</th>\n",
       "      <td>1.653849</td>\n",
       "    </tr>\n",
       "    <tr>\n",
       "      <th>23</th>\n",
       "      <td>0.941333</td>\n",
       "    </tr>\n",
       "    <tr>\n",
       "      <th>24</th>\n",
       "      <td>-0.899705</td>\n",
       "    </tr>\n",
       "    <tr>\n",
       "      <th>25</th>\n",
       "      <td>0.475266</td>\n",
       "    </tr>\n",
       "    <tr>\n",
       "      <th>26</th>\n",
       "      <td>-1.261477</td>\n",
       "    </tr>\n",
       "    <tr>\n",
       "      <th>27</th>\n",
       "      <td>-0.590678</td>\n",
       "    </tr>\n",
       "    <tr>\n",
       "      <th>28</th>\n",
       "      <td>0.941026</td>\n",
       "    </tr>\n",
       "    <tr>\n",
       "      <th>29</th>\n",
       "      <td>12.028174</td>\n",
       "    </tr>\n",
       "    <tr>\n",
       "      <th>30</th>\n",
       "      <td>2.919137</td>\n",
       "    </tr>\n",
       "    <tr>\n",
       "      <th>31</th>\n",
       "      <td>6.206366</td>\n",
       "    </tr>\n",
       "    <tr>\n",
       "      <th>32</th>\n",
       "      <td>2.226158</td>\n",
       "    </tr>\n",
       "    <tr>\n",
       "      <th>33</th>\n",
       "      <td>2.803902</td>\n",
       "    </tr>\n",
       "    <tr>\n",
       "      <th>34</th>\n",
       "      <td>2.115913</td>\n",
       "    </tr>\n",
       "    <tr>\n",
       "      <th>35</th>\n",
       "      <td>6.656910</td>\n",
       "    </tr>\n",
       "    <tr>\n",
       "      <th>36</th>\n",
       "      <td>0.284409</td>\n",
       "    </tr>\n",
       "    <tr>\n",
       "      <th>37</th>\n",
       "      <td>3.745222</td>\n",
       "    </tr>\n",
       "    <tr>\n",
       "      <th>38</th>\n",
       "      <td>0.780445</td>\n",
       "    </tr>\n",
       "    <tr>\n",
       "      <th>39</th>\n",
       "      <td>-0.698732</td>\n",
       "    </tr>\n",
       "    <tr>\n",
       "      <th>40</th>\n",
       "      <td>0.897877</td>\n",
       "    </tr>\n",
       "    <tr>\n",
       "      <th>41</th>\n",
       "      <td>0.903479</td>\n",
       "    </tr>\n",
       "    <tr>\n",
       "      <th>42</th>\n",
       "      <td>-2.556918</td>\n",
       "    </tr>\n",
       "    <tr>\n",
       "      <th>43</th>\n",
       "      <td>-3.405920</td>\n",
       "    </tr>\n",
       "    <tr>\n",
       "      <th>44</th>\n",
       "      <td>0.147933</td>\n",
       "    </tr>\n",
       "    <tr>\n",
       "      <th>45</th>\n",
       "      <td>-1.004254</td>\n",
       "    </tr>\n",
       "    <tr>\n",
       "      <th>46</th>\n",
       "      <td>1.214356</td>\n",
       "    </tr>\n",
       "    <tr>\n",
       "      <th>47</th>\n",
       "      <td>4.734505</td>\n",
       "    </tr>\n",
       "    <tr>\n",
       "      <th>48</th>\n",
       "      <td>7.618892</td>\n",
       "    </tr>\n",
       "    <tr>\n",
       "      <th>49</th>\n",
       "      <td>-3.977606</td>\n",
       "    </tr>\n",
       "    <tr>\n",
       "      <th>50</th>\n",
       "      <td>480.679950</td>\n",
       "    </tr>\n",
       "  </tbody>\n",
       "</table>\n",
       "</div>"
      ],
      "text/plain": [
       "     suff_stat\n",
       "0    -1.250897\n",
       "1    -2.292398\n",
       "2    -1.076975\n",
       "3    -1.363678\n",
       "4    -0.085119\n",
       "5    -2.190540\n",
       "6     2.598597\n",
       "7    -1.901024\n",
       "8    -0.031890\n",
       "9     0.753332\n",
       "10    0.132528\n",
       "11    3.728389\n",
       "12    7.424088\n",
       "13    8.312154\n",
       "14    1.438023\n",
       "15    4.413231\n",
       "16   -2.036608\n",
       "17   -0.086037\n",
       "18   -1.563301\n",
       "19   -2.179140\n",
       "20   -1.007372\n",
       "21   -0.422625\n",
       "22    1.653849\n",
       "23    0.941333\n",
       "24   -0.899705\n",
       "25    0.475266\n",
       "26   -1.261477\n",
       "27   -0.590678\n",
       "28    0.941026\n",
       "29   12.028174\n",
       "30    2.919137\n",
       "31    6.206366\n",
       "32    2.226158\n",
       "33    2.803902\n",
       "34    2.115913\n",
       "35    6.656910\n",
       "36    0.284409\n",
       "37    3.745222\n",
       "38    0.780445\n",
       "39   -0.698732\n",
       "40    0.897877\n",
       "41    0.903479\n",
       "42   -2.556918\n",
       "43   -3.405920\n",
       "44    0.147933\n",
       "45   -1.004254\n",
       "46    1.214356\n",
       "47    4.734505\n",
       "48    7.618892\n",
       "49   -3.977606\n",
       "50  480.679950"
      ]
     },
     "execution_count": 5,
     "metadata": {},
     "output_type": "execute_result"
    }
   ],
   "source": [
    "# Suff stat test\n",
    "data = {'X':X, 'y':y}\n",
    "suff_stat = compute_sufficient_statistics(data, \"{}\")\n",
    "\n",
    "print(suff_stat)\n",
    "\n",
    "import pandas as pd\n",
    "pd.DataFrame({'suff_stat':suff_stat})"
   ]
  },
  {
   "cell_type": "code",
   "execution_count": 11,
   "metadata": {},
   "outputs": [],
   "source": [
    "# TODO: remove?\n",
    "#from IPython.display import _display_mimetype"
   ]
  },
  {
   "cell_type": "code",
   "execution_count": 18,
   "metadata": {
    "collapsed": true
   },
   "outputs": [],
   "source": [
    "display.display_json(selected_vars)"
   ]
  },
  {
   "cell_type": "code",
   "execution_count": 23,
   "metadata": {
    "collapsed": true
   },
   "outputs": [],
   "source": [
    "display.display_html??"
   ]
  },
  {
   "cell_type": "code",
   "execution_count": 21,
   "metadata": {},
   "outputs": [
    {
     "ename": "AttributeError",
     "evalue": "module 'IPython.display' has no attribute '_display_mimetype'",
     "output_type": "error",
     "traceback": [
      "\u001b[0;31m---------------------------------------------------------------------------\u001b[0m",
      "\u001b[0;31mAttributeError\u001b[0m                            Traceback (most recent call last)",
      "\u001b[0;32m<ipython-input-21-e9693da5d52c>\u001b[0m in \u001b[0;36m<module>\u001b[0;34m()\u001b[0m\n\u001b[0;32m----> 1\u001b[0;31m \u001b[0mdisplay\u001b[0m\u001b[0;34m.\u001b[0m\u001b[0m_display_mimetype\u001b[0m\u001b[0;34m\u001b[0m\u001b[0m\n\u001b[0m",
      "\u001b[0;31mAttributeError\u001b[0m: module 'IPython.display' has no attribute '_display_mimetype'"
     ]
    }
   ],
   "source": [
    "display._display_mimetype"
   ]
  },
  {
   "cell_type": "code",
   "execution_count": 28,
   "metadata": {},
   "outputs": [
    {
     "data": {
      "text/plain": [
       "{'application.blah': '[12, 13, 48, 29, 31]'}"
      ]
     },
     "metadata": {},
     "output_type": "display_data"
    }
   ],
   "source": [
    "display.display({'application.blah': selected_vars}, raw=False)"
   ]
  }
 ],
 "metadata": {
  "celltoolbar": "Edit Metadata",
  "jupytext": {
   "cell_metadata_filter": "all,-slideshow"
  },
  "kernelspec": {
   "display_name": "Python 3",
   "language": "python",
   "name": "python3"
  },
  "language_info": {
   "codemirror_mode": {
    "name": "ipython",
    "version": 3
   },
   "file_extension": ".py",
   "mimetype": "text/x-python",
   "name": "python",
   "nbconvert_exporter": "python",
   "pygments_lexer": "ipython3",
   "version": "3.5.3"
  }
 },
 "nbformat": 4,
 "nbformat_minor": 2
}
